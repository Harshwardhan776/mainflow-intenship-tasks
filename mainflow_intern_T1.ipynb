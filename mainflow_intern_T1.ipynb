{
 "cells": [
  {
   "cell_type": "code",
   "execution_count": 1,
   "id": "edb17ef7-4693-4b20-9817-0235c55933c8",
   "metadata": {},
   "outputs": [
    {
     "name": "stdout",
     "output_type": "stream",
     "text": [
      "['harsh', 'mitwpu', 2024, 3]\n"
     ]
    }
   ],
   "source": [
    "#creating a list\n",
    "list1 = [ 'harsh','mitwpu', 2024, 3]\n",
    "print(list1)"
   ]
  },
  {
   "cell_type": "code",
   "execution_count": 2,
   "id": "5aac3442-05ab-48f5-8566-c0abd719f630",
   "metadata": {},
   "outputs": [
    {
     "name": "stdout",
     "output_type": "stream",
     "text": [
      "['harsh', 'mitwpu', 2024, 3, 'statistics']\n"
     ]
    }
   ],
   "source": [
    "#adding element to list\n",
    "list1.append('statistics')\n",
    "print(list1)"
   ]
  },
  {
   "cell_type": "code",
   "execution_count": 3,
   "id": "5cae4e9b-2a7e-4396-8c81-1c6a92bad2ea",
   "metadata": {},
   "outputs": [
    {
     "name": "stdout",
     "output_type": "stream",
     "text": [
      "['harsh', 'mitwpu', 2024, 'statistics']\n"
     ]
    }
   ],
   "source": [
    "#remove element from list\n",
    "list1.remove(3) \n",
    "print(list1)"
   ]
  },
  {
   "cell_type": "code",
   "execution_count": 4,
   "id": "3f85b557-d5c6-4a0b-9821-7e4747d68c55",
   "metadata": {},
   "outputs": [
    {
     "name": "stdout",
     "output_type": "stream",
     "text": [
      "updated list: ['harsh', 'mitwpu', 2023, 'statistics']\n"
     ]
    }
   ],
   "source": [
    "#modifying the list \n",
    "list1[2] = 2023\n",
    "print('updated list:', list1)"
   ]
  },
  {
   "cell_type": "code",
   "execution_count": 8,
   "id": "dd5096c6-1f0f-45d1-b0b1-a86ad0f0fb5c",
   "metadata": {},
   "outputs": [
    {
     "name": "stdout",
     "output_type": "stream",
     "text": [
      "('harsh', 1, 2, 3, 'stat', 2024)\n"
     ]
    }
   ],
   "source": [
    "#creating a tuple \n",
    "tuple1=(\"harsh\", 1, 2, 3, 'stat', 2024)\n",
    "print(tuple1)\n"
   ]
  },
  {
   "cell_type": "code",
   "execution_count": 10,
   "id": "a74cddc7-5923-40e2-b938-4a230d36d0ec",
   "metadata": {},
   "outputs": [
    {
     "name": "stdout",
     "output_type": "stream",
     "text": [
      "harsh\n",
      "('harsh', 1, 2, 3)\n"
     ]
    }
   ],
   "source": [
    "#accessing values\n",
    "print(tuple1[0])\n",
    "print(tuple1[0:4])\n"
   ]
  },
  {
   "cell_type": "code",
   "execution_count": 11,
   "id": "122be01e-bba5-4b4a-a81c-56dd5a4b4ece",
   "metadata": {},
   "outputs": [
    {
     "name": "stdout",
     "output_type": "stream",
     "text": [
      "{'Name': 'harsh', 'SEM': 3, 'Sub': 'Statistics', 'year': 2024}\n"
     ]
    }
   ],
   "source": [
    "#creating dictionary\n",
    "college = {\"Name\":'harsh', \"SEM\":3, \"Sub\":'Statistics', 'year':2024}\n",
    "print(college)\n",
    "\n"
   ]
  },
  {
   "cell_type": "code",
   "execution_count": 15,
   "id": "7cbb742a-1c09-41c1-bbbc-604be1ac5ffb",
   "metadata": {},
   "outputs": [
    {
     "name": "stdout",
     "output_type": "stream",
     "text": [
      "{'Name': 'harsh', 'SEM': 3, 'Sub': 'Statistics', 'year': 2024, 'coll_Name': 'MITWPU'}\n"
     ]
    }
   ],
   "source": [
    "#adding element\n",
    "college['coll_Name'] = \"MITWPU\"\n",
    "print(college)"
   ]
  },
  {
   "cell_type": "code",
   "execution_count": 17,
   "id": "a9a706ad-32a1-4336-aa76-706775c54cf8",
   "metadata": {},
   "outputs": [
    {
     "name": "stdout",
     "output_type": "stream",
     "text": [
      "{'Name': 'harsh', 'Sub': 'Statistics', 'year': 2024, 'coll_Name': 'MITWPU'}\n"
     ]
    }
   ],
   "source": [
    "#removingElemnet\n",
    "del college[\"SEM\"]\n",
    "print(college)"
   ]
  },
  {
   "cell_type": "code",
   "execution_count": 18,
   "id": "d1cc32a4-bb43-453a-bf46-58691b16f313",
   "metadata": {},
   "outputs": [
    {
     "name": "stdout",
     "output_type": "stream",
     "text": [
      "updated_dict: {'Name': 'Harsh_patil', 'Sub': 'Statistics', 'year': 2024, 'coll_Name': 'MITWPU'}\n"
     ]
    }
   ],
   "source": [
    "#modifying dict\n",
    "college[\"Name\"] = \"Harsh_patil\"\n",
    "print('updated_dict:', college) "
   ]
  },
  {
   "cell_type": "code",
   "execution_count": 19,
   "id": "884fccac-ffb5-40ea-8504-f2b6e5abe14f",
   "metadata": {},
   "outputs": [
    {
     "name": "stdout",
     "output_type": "stream",
     "text": [
      "updated_set: {2024, 'mitwpu', 'pune', 'harsh_patil'}\n"
     ]
    }
   ],
   "source": [
    "#creating Set\n",
    "My_coll = {'harsh','mitwpu', 2024, 3 }\n",
    "#adding\n",
    "My_coll.add('pune')\n",
    "#remove\n",
    "My_coll.remove(3)\n",
    "#modifying\n",
    "My_coll.discard('harsh')\n",
    "My_coll.add(\"harsh_patil\")\n",
    "\n",
    "print(\"updated_set:\", My_coll)"
   ]
  },
  {
   "cell_type": "code",
   "execution_count": null,
   "id": "52013166-47fa-43f5-9cc1-6b53381f85b3",
   "metadata": {},
   "outputs": [],
   "source": []
  }
 ],
 "metadata": {
  "kernelspec": {
   "display_name": "Python 3 (ipykernel)",
   "language": "python",
   "name": "python3"
  },
  "language_info": {
   "codemirror_mode": {
    "name": "ipython",
    "version": 3
   },
   "file_extension": ".py",
   "mimetype": "text/x-python",
   "name": "python",
   "nbconvert_exporter": "python",
   "pygments_lexer": "ipython3",
   "version": "3.12.3"
  }
 },
 "nbformat": 4,
 "nbformat_minor": 5
}
